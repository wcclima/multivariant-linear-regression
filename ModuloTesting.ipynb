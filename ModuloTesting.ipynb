{
 "cells": [
  {
   "cell_type": "markdown",
   "id": "fe7f3c96-f690-49d7-87b0-d13472b8abf4",
   "metadata": {},
   "source": [
    "# **Multivariant Linear Regression**\n",
    "\n",
    "In this notebook we discuss some basic aspects of the multivariant linear regression and illustrate our `LinearRegressior` module."
   ]
  },
  {
   "cell_type": "markdown",
   "id": "d9951aff-951d-4386-936b-51c7652306ee",
   "metadata": {},
   "source": [
    "## 1 - Set up"
   ]
  },
  {
   "cell_type": "code",
   "execution_count": 1,
   "id": "a383daf6-e3d4-41a7-84f2-51ef8af3b0a6",
   "metadata": {},
   "outputs": [],
   "source": [
    "import numpy as np #to generate fake data\n",
    "import matplotlib.pyplot as plt #visualisation tools\n",
    "\n",
    "from linear_regression import LinearRegressor #our linear regression module"
   ]
  },
  {
   "cell_type": "markdown",
   "id": "bbeada28-cac3-486b-9087-5ee3aca25514",
   "metadata": {
    "jp-MarkdownHeadingCollapsed": true
   },
   "source": [
    "## 2 - Basics of linear regression"
   ]
  },
  {
   "cell_type": "markdown",
   "id": "341c8a3a-0c11-4d92-a5dd-cdfb68ffe36c",
   "metadata": {},
   "source": [
    "### 2.1 - The model\n",
    "We consider a random variable $\\Upsilon$ and a set of independent events $\\omega = \\{Y_1, \\dots, Y_n\\}$. We *assume* that each event can be expressed as\n",
    "$$\n",
    "Y_i = b_0 + b_1 x_{i,\\ 1} + \\dots + b_p x_{i,\\ p} + \\epsilon_i\n",
    "$$\n",
    "for $i = 1, \\dots, n$, where $b_0, \\dots, b_p$ are constant coefficients, $x_{i,\\ 1}, \\dots, x_{i,\\ p}$ are the values assumed by the deterministic predictors $x_1, \\dots, x_p$ for the $i$-th event and $\\epsilon$ is the random error. It is enough to assume for the error that its expectation value and variance satisfy\n",
    "$$\n",
    "\\textrm{E}(\\epsilon_i) = 0,  \\;\\;\\;\\;\\; \\textrm{E}(\\epsilon_i\\epsilon_j) = 0\\;\\; \\textrm{if}\\;\\; i\\neq j, \\;\\;\\;\\;\\; \\textrm{and} \\;\\;\\;\\;\\; \\textrm{Var}(\\epsilon_i) = \\sigma^2,\n",
    "$$\n",
    "respectively, where $\\sigma$ is a constant. From the properties assumed for the error, we have that for $Y_i$\n",
    "$$\n",
    "\\textrm{E}(Y_i) = b_0 + b_1 x_{i,\\ 1} + \\dots + b_p x_{i,\\ p} \\;\\;\\;\\;\\; \\textrm{and} \\;\\;\\;\\;\\; \\textrm{Var}(Y_i) = \\sigma^2.\n",
    "$$\n",
    "\n",
    "Next, we consider the set of observations $O = \\{y_1, \\dots, y_n\\}$ of the events in $\\omega$. We want to use the observations $O$ to estimate the coefficients $b_0, \\dots, b_p$ by $\\hat{b}_0, \\dots, \\hat{b}_p$ in such a way that the events expectation value $\\textrm{E}(Y_i)$ is as close as possible to the corresponding observed value $y_i$. For that we use the **method of least squares**, where we minimise the residual sum of squares\n",
    "$$\n",
    "S = \\sum_{i = 1}^n(Y_i - b_0 - b_1 x_{i,\\ 1} - \\dots - b_p x_{i,\\ p})^2\n",
    "$$\n",
    "in terms of the coefficients.\n",
    "\n",
    "It is convenient to define the following matrix notation for the observations of the $\\Upsilon$ variable, the predictors $x_1, \\dots, x_p$ and coefficients:\n",
    "$$\n",
    "Y = \n",
    "\\begin{bmatrix}\n",
    "Y_1\\\\\n",
    "\\vdots\\\\\n",
    "Y_n\n",
    "\\end{bmatrix}, \\;\\;\\;\\;\\;\n",
    "b = \n",
    "\\begin{bmatrix}\n",
    "b_0\\\\\n",
    "\\vdots\\\\\n",
    "b_p\n",
    "\\end{bmatrix} \\;\\;\\;\\;\\; \\textrm{and} \\;\\;\\;\\;\\;\n",
    "X =\n",
    "\\begin{bmatrix}\n",
    "1 & x_{1,\\ 1} & \\dots & x_{1,\\ p}\\\\\n",
    "\\vdots & \\vdots & \\ddots & \\vdots\\\\\n",
    "1 & x_{N,\\ 1} & \\dots & x_{n,\\ p}\n",
    "\\end{bmatrix}.\n",
    "$$\n",
    "Then, in this more compact notation the linearity assumption of $Y$ reads \n",
    "$$\n",
    "Y = X b + \\epsilon,\n",
    "$$\n",
    "where $\\epsilon$ is the column vector of the errors, and the residual sum of squares can be written as\n",
    "$$\n",
    "S(b) = (Y - Xb)^\\textrm{T}(Y - Xb).\n",
    "$$\n",
    "\n",
    "The estimate $\\hat{b}$ for the coefficients matrix $b$ is then defined as the one that minimises $S$. Thus, taking the gradient with respect to $b$, we conclude that the estimate is obtained from solving the linear system\n",
    "$$\n",
    "X^\\textrm{T} X \\hat{b} - X^\\textrm{T}Y = 0,\n",
    "$$\n",
    "\n",
    "**Some properties of the estimators for the coefficients.** From the linear system above, we can deduce the properties of the estimator $\\hat{b}$. Note that $\\hat{b}$ is also a random variable, since its a linear combination of the events in $\\omega$. In particular, we are interested in its expectation value and variance, which are given by\n",
    "$$\n",
    "\\textrm{E}(\\hat{b}) = b \\;\\;\\;\\;\\; \\textrm{and} \\;\\;\\;\\;\\; \\textrm{Var}(\\hat{b}) = \\sigma^2 (X^\\textrm{T} X)^{-1}.\n",
    "$$"
   ]
  },
  {
   "cell_type": "markdown",
   "id": "d7f70d03-ace9-457c-903f-97533270a789",
   "metadata": {},
   "source": [
    "### 2.2 - Solving the linear system\n",
    "\n",
    "In solving the linear system above we essentially have to compute the inverse of the $(p + 1)\\times (p + 1)$-matrix $X^\\textrm{T}X$. In computing this inverse, two types of problems can arise:\n",
    "\n",
    "1. **The inverse does not exists.** The inverse is not defined if, and only if, the columns of $X$ are not linearly independent of each other. This is the multicollinearity problem. This happens when there is an actual linear relation amongst some of the predictors or when the system is underdetermined, i.e. when $p > N$. In essence, the problem is that our samples probe a space that has lower dimension than that of where our linear model is set up.\n",
    "2. **The inverse exists, but its computation is numerically unstable.** The numerical computation of the inverse becomes unstable when there is are high linear correlations amongst some of the predictions. This leads to eigenvalues that are too small, making small changes in $X$ to create large changes in $(X^\\textrm{T} X)^{-1}$.\n",
    "\n",
    "In both cases we can employ the singular value decomposition (SVD) to compute the pseudoinverse (a.k.a. Moore-Penrose inverse) $X^+$ for the matrix $X$ and then use it to obtain the estimate for the linear regression coefficients according to\n",
    "$$\n",
    "\\hat{b} = X^+ Y\n",
    "$$\n",
    "and re-express the variance of $\\hat{b}$ as\n",
    "$$\n",
    "\\textrm{Var}(\\hat{b}) = \\sigma^2(X^{+}X^{+\\textrm{T}})\n",
    "$$\n",
    "\n",
    "Combined with the SVD method of `Numpy`, this is the way our module computes the estimators."
   ]
  },
  {
   "cell_type": "markdown",
   "id": "0eec47b1-3f21-4e4d-a988-0a3fba22d557",
   "metadata": {
    "jp-MarkdownHeadingCollapsed": true
   },
   "source": [
    "## 3 - Statistical analysis of the coefficients"
   ]
  },
  {
   "cell_type": "markdown",
   "id": "b05d513d-5504-46f3-a1eb-c877a94f55d1",
   "metadata": {},
   "source": [
    "### 3.1 - Estimation interval\n",
    "\n",
    "We would like to determine how accurate are our coefficient estimate $\\hat{b}_i$ as an approximation for the true value $b_i$. We first notice that $\\hat{b}_i$ is a random variable obtained as a linear combination of the events $\\omega$ of the random variable $\\Upsilon$. Hence, for a high enough number of observations $n$,  $\\hat{b}_i$ follows in good approximation a normal distribution $N$ centred in $b_i$ with variance $\\sigma^2 (X^+ X^{+\\textrm{T}})_{ii}$. Thus it is convenient to normalise $\\hat{b}_i$ as\n",
    "$$\n",
    "\\frac{\\hat{b}_i - b_i}{\\sqrt{\\sigma^2(X^+ X^{+T})_{ii}}}.\n",
    "$$\n",
    "If $\\sigma$, the variance of the random error $\\epsilon$, is know, we can use the normal distribution to find the confidence interval for $b_i$ within a certain confidence level. This is however usually not the case and we have to find a estimator $\\hat{\\sigma}$ that is centred in $\\sigma$.\n",
    "\n",
    "Using the residual sum of squares evaluated at the estimators, $S(\\hat{b})$, we can show that $\\textrm{E}[S(\\hat{b})] = (n - p - 1)\\sigma^2$ and, thus, define the estimator\n",
    "$$\n",
    "\\hat{\\sigma}^2 = \\frac{S(\\hat{b})}{n - p - 1}.\n",
    "$$\n",
    "With this estimator for the variance of the error, we define the *pivotal quantity*\n",
    "$$\n",
    "\\Omega_i = \\frac{\\hat{b}_i - b_i}{\\sqrt{\\hat{\\sigma}^2(X^+ X^{+T})_{ii}}},\n",
    "$$\n",
    "which in good approximation follows a $t$-distribution with $n - p - 1$ degrees of freedom. From that distribution we can compute the confidence interval for the coefficient $b_i$ as\n",
    "$$\n",
    "\\gamma = P\\left(a_\\gamma < \\frac{\\hat{b}_i - b_i}{\\sqrt{\\hat{\\sigma}^2(X^+ X^{+T})_{ii}}} < b_\\gamma\\right) \n",
    "= P\\left(\\hat{b}_i + a_\\gamma \\sqrt{\\hat{\\sigma}^2(X^+ X^{+T})_{ii}} < b_i < \\hat{b}_i + b_\\gamma \\sqrt{\\hat{\\sigma}^2(X^+ X^{+T})_{ii}}\\right)\n",
    "$$\n",
    "at $100\\gamma\\%$ confidence level. It means that if we repeat the sampling of the random variable $\\Upsilon$ (for the predictors $x_1, \\dots, x_p$ fixed), $100\\gamma\\%$ of the confidence interval constructed this way will contain the true value of the coefficient $b_i$."
   ]
  },
  {
   "cell_type": "markdown",
   "id": "eb2b8b4d-0140-4394-899c-2f582714e9d1",
   "metadata": {},
   "source": [
    "### 3.2 - Hypothesis testing\n",
    "\n",
    "We would like to test the hypothesis of whether $b_i$ are null or not for each individual coefficient up to a certain significance level. This assess the effect of adding that corresponding predictor to the model. The null and alternative hypothesis are\n",
    "\\begin{split}\n",
    "&\\textrm{H}_0\\ \\textrm{:}\\; b_i = 0,\\\\\n",
    "&\\textrm{H}_\\textrm{a}\\ \\textrm{:}\\; b_i \\neq 0.\n",
    "\\end{split}\n",
    "The relevant statistics for this test is\n",
    "$$\n",
    "W_i = \\frac{\\hat{b}_i}{\\sqrt{\\hat{\\sigma}^2(X^+ X^{+T})_{ii}}},\n",
    "$$\n",
    "which again follows in good approximation a $t$-distribution $t_{(n-p-1)}$ with $n - p - 1$ degrees of freedom. The probability of rejecting $\\textrm{H}_0$ when $\\textrm{H}_0$ true is given by\n",
    "$$\n",
    "\\alpha = 2F_{t_{(n - p - 1)}}(-|w_{\\alpha}|),\n",
    "$$\n",
    "where $F_{t_{(n-p-1)}}$ is the cumulative probability distribution of $t_{(n-p-1)}$ and the factor $2$ comes from the fact that the probability distribution used in the test is symmetric. \n",
    "\n",
    "For fixed $\\alpha$, this last expression defines a critical region $\\textrm{CR}_\\alpha$ where $\\textrm{H}_0$ is rejected. Since $|w_\\alpha| = F_{t_{(n - p - 1)}}^{-1}(1 - \\alpha/2)$, we have that $$\n",
    "\\textrm{CR}_\\alpha = (-\\infty,\\ -|w_\\alpha|)\\cup (|w_\\alpha|,\\ \\infty).\n",
    "$$\n",
    "Then, given a realisation $w_i$ of the statistic $W_i$, if $w_i \\in \\textrm{CR}_\\alpha$ we have evidence to reject $\\textrm{H}_0$ at $100\\alpha\\%$ significance level. Typically, we choose significance levels of $1\\%$, $5\\%$ or $10\\%$.\n",
    "\n",
    "An alternative way to perform this check is to compute the so-called $p$-value of the test. The $p$-value is the probability of obtaining an estimation on the statistic $W_i$ more or as much as in disfavour of the null hypothesis than the realisation $w_i$, assuming that $\\textrm{H}_0$ is true. In other words, the $p$-value in our case is given by\n",
    "$$\n",
    "p = 2F_{t_{(n - p - 1)}}(-|w_i|),\n",
    "$$\n",
    "where again the factor $2$ is due to the symmetry of the $t$-distribution. Then, is the $p$-value is small enough according to some criteria (defined by the test user), we can say we have enough evidence to reject $\\textrm{H}_0$. "
   ]
  },
  {
   "cell_type": "markdown",
   "id": "c3768c78-dac2-4656-afc6-ee6d8f059c99",
   "metadata": {},
   "source": [
    "### 3.3 - F-statistic\n",
    "\n",
    "We can also test the hypothesis that all the coefficients are null, i.e. that the dependent variable is not related to the predictor, against the alternative that at least one of the coefficients is non-zero. Hence,\n",
    "\\begin{split}\n",
    "&\\textrm{H}_0\\ \\textrm{:}\\; b_1 = b_2 = \\dots = b_p = 0,\\\\\n",
    "&\\textrm{H}_\\textrm{a}\\ \\textrm{:}\\; b_i \\neq 0\\;\\; \\textrm{for some}\\;\\; i = 1, \\dots, p.\n",
    "\\end{split}\n",
    "A convenient statistics for the test can be constructed as follows. We first notice that under $\\textrm{H}_0$ the model's variation is given by the total sum of squares\n",
    "$$\n",
    "T = (Y - \\bar{Y}\\mathbb{1}_{n\\times 1})^\\textrm{T}(Y - \\bar{Y}\\mathbb{1}_{n\\times 1}),\n",
    "$$\n",
    "where $\\bar{Y} \\equiv \\frac{1}{n}\\sum_{i = 1}^n Y_i$ is the sample average and $\\mathbb{1}_{n\\times 1} \\equiv (1, \\dots, 1)^\\textrm{T}$ is the $n$-dimensional column vector with all components equal $1$. Using the estimators for the linear coefficients of the model under the alternative hypothesis, we can rewrite $T$ as\n",
    "$$\n",
    "T = S(\\hat{b}) + E(\\hat{b}),\n",
    "$$\n",
    "where\n",
    "$$\n",
    "E(b) = (Xb - \\bar{Xb}\\mathbb{1}_{n\\times 1})^\\textrm{T}(Xb - \\bar{Xb}\\mathbb{1}_{n\\times 1})\n",
    "$$\n",
    "is the explained sum of squares. Thus, the variation in the model under $\\textrm{H}_0$ can be decomposed as the unexplained variation $S(\\hat{b})$ by the model under $\\textrm{H}_\\textrm{a}$ plus the explained variation $E(\\hat{b})$ by that model.\n",
    "\n",
    "The total sum of squares $T$ involves the sample average and, thus, have $n - 1$ degrees of freedom, while $S$ involves $p + 1$ coefficients and have $n - p - 1$ degrees of freedom. The degrees of freedom of $E$ is given by the difference of these two and is $p$. The $F$-statistic is the defined as\n",
    "$$\n",
    "F \\equiv \\frac{n - p - 1}{p}\\frac{E}{S}.\n",
    "$$\n",
    "If $F \\gg 1$, then the variance explained by the model under $\\textrm{H}_\\textrm{a}$ is larger than the variance unexplained by that model and thus we expect to be able to reject $\\textrm{H}_0$. With the assumption that $\\sigma$ is constant and $n \\gg 1$, the $F$-statistic follows the Fisher-Snedecor distribution. We can then use that distribution to compute the critical region for this test and the corresponding $p$-value."
   ]
  },
  {
   "cell_type": "markdown",
   "id": "568d30c7-a35f-4f93-b920-d5c820bb4fdf",
   "metadata": {},
   "source": [
    "## 4 - The `LinearRegressor` module\n",
    "\n",
    "To test and demonstrate the features of the `LinearRegressor` module, we generate the following artificial data."
   ]
  },
  {
   "cell_type": "code",
   "execution_count": 2,
   "id": "5f8e38f7-7a28-4509-aa0c-5feaef55f8b1",
   "metadata": {},
   "outputs": [],
   "source": [
    "n_samples = 100 #number of samples\n",
    "n_predictors = 3 #number of predictors\n",
    "np.random.seed(42) # fix pseudo random number generator's seed\n",
    "X = np.random.rand(n_samples, n_predictors)\n",
    "error = np.random.normal(0., 1., n_samples) #our error corresponds to a normal noise centred in 0. and with dispersion 1.\n",
    "y = 2.1 + 3.78*X[:,0] + 7.56*X[:,1] + 1.29*X[:,2] + error #the dependent variable, created assuming a linear relationship"
   ]
  },
  {
   "cell_type": "code",
   "execution_count": 3,
   "id": "7fb8a308-8944-4c0e-9784-3424a8eb5be7",
   "metadata": {},
   "outputs": [],
   "source": [
    "reg = LinearRegressor() #instance of the LinearRegressor class"
   ]
  },
  {
   "cell_type": "code",
   "execution_count": 4,
   "id": "2944af3c-2444-4f56-983b-6700d7aa140c",
   "metadata": {},
   "outputs": [],
   "source": [
    "reg.fit(X, y)"
   ]
  },
  {
   "cell_type": "code",
   "execution_count": 5,
   "id": "cce0246e-c2f1-4e3c-a038-957616faa60f",
   "metadata": {},
   "outputs": [],
   "source": [
    "y_hat = reg.predict(X)"
   ]
  },
  {
   "cell_type": "code",
   "execution_count": 6,
   "id": "78408882-69af-416f-93c9-3907f1a056e6",
   "metadata": {},
   "outputs": [
    {
     "data": {
      "image/png": "[encoded data removed]",
      "text/plain": [
       "<Figure size 640x480 with 1 Axes>"
      ]
     },
     "metadata": {},
     "output_type": "display_data"
    }
   ],
   "source": [
    "plt.scatter(y, y_hat)\n",
    "plt.plot(np.linspace(y.min(), y.max(), 10), np.linspace(y.min(), y.max(), 10))\n",
    "plt.xlabel(\"y\")\n",
    "plt.ylabel(\"y_hat\")\n",
    "plt.title('Predicted vs. observed dependent variable')\n",
    "plt.savefig('y_hat_vs_y.png')\n",
    "plt.show()"
   ]
  },
  {
   "cell_type": "code",
   "execution_count": 7,
   "id": "5140e7bb-15f5-409a-8a02-5e7d40214ce0",
   "metadata": {},
   "outputs": [
    {
     "name": "stdout",
     "output_type": "stream",
     "text": [
      "+---------------------+----------+\n",
      "|       quantity      |  value   |\n",
      "+---------------------+----------+\n",
      "| residual std. error |  0.9792  |\n",
      "|         R^2         |  0.8834  |\n",
      "|     F-statistic     | 242.4373 |\n",
      "|       p-value       |   0.0    |\n",
      "+---------------------+----------+\n"
     ]
    }
   ],
   "source": [
    "reg.score(X, y) #the score method returns a statistical analysis of the model"
   ]
  },
  {
   "cell_type": "code",
   "execution_count": 8,
   "id": "1dfa9383-9d50-459a-b425-a952b2c9f291",
   "metadata": {},
   "outputs": [
    {
     "name": "stdout",
     "output_type": "stream",
     "text": [
      "{'intercept': 1.8350145551577408, 'coef_1': 4.058004114466353, 'coef_2': 7.402237808463265, 'coef_3': 1.8604057592126526}\n"
     ]
    }
   ],
   "source": [
    "reg.get_params()"
   ]
  },
  {
   "cell_type": "code",
   "execution_count": 9,
   "id": "04dd8265-7a02-49f1-ba8b-6c62da93cfd2",
   "metadata": {},
   "outputs": [
    {
     "name": "stdout",
     "output_type": "stream",
     "text": [
      "+-----------+-------------+-----------------------------+------------+---------+\n",
      "|   *****   | coefficient | confidence interval @ 95.0% | std. error | p-value |\n",
      "+-----------+-------------+-----------------------------+------------+---------+\n",
      "| intercept |    1.8350   |       [1.2231, 2.4469]      |   0.3083   |  0.0000 |\n",
      "|   coef_1  |    4.0580   |       [3.3712, 4.7448]      |   0.3460   |  0.0000 |\n",
      "|   coef_2  |    7.4022   |       [6.7716, 8.0329]      |   0.3177   |  0.0000 |\n",
      "|   coef_3  |    1.8604   |       [1.1797, 2.5412]      |   0.3430   |  0.0000 |\n",
      "+-----------+-------------+-----------------------------+------------+---------+\n"
     ]
    }
   ],
   "source": [
    "reg.regression_report(X, y) #the regression_report method returns a statistical analysis of the linear regression coefficients"
   ]
  },
  {
   "cell_type": "code",
   "execution_count": null,
   "id": "38129ffb-6b0e-4d61-85ac-1a7771db73f2",
   "metadata": {},
   "outputs": [],
   "source": []
  }
 ],
 "metadata": {
  "kernelspec": {
   "display_name": "Python 3 (ipykernel)",
   "language": "python",
   "name": "python3"
  },
  "language_info": {
   "codemirror_mode": {
    "name": "ipython",
    "version": 3
   },
   "file_extension": ".py",
   "mimetype": "text/x-python",
   "name": "python",
   "nbconvert_exporter": "python",
   "pygments_lexer": "ipython3",
   "version": "3.11.3"
  }
 },
 "nbformat": 4,
 "nbformat_minor": 5
}
